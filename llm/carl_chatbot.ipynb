{
 "cells": [
  {
   "cell_type": "code",
   "execution_count": 1,
   "metadata": {},
   "outputs": [
    {
     "data": {
      "application/vnd.jupyter.widget-view+json": {
       "model_id": "35e44b967b6b4d26a024119802826247",
       "version_major": 2,
       "version_minor": 0
      },
      "text/plain": [
       "tokenizer_config.json:   0%|          | 0.00/727 [00:00<?, ?B/s]"
      ]
     },
     "metadata": {},
     "output_type": "display_data"
    },
    {
     "name": "stderr",
     "output_type": "stream",
     "text": [
      "c:\\Users\\abcdm\\AppData\\Local\\Programs\\Python\\Python311\\Lib\\site-packages\\huggingface_hub\\file_download.py:148: UserWarning: `huggingface_hub` cache-system uses symlinks by default to efficiently store duplicated files but your machine does not support them in C:\\Users\\abcdm\\.cache\\huggingface\\hub\\models--ajibawa-2023--carl-7b. Caching files will still work but in a degraded version that might require more space on your disk. This warning can be disabled by setting the `HF_HUB_DISABLE_SYMLINKS_WARNING` environment variable. For more details, see https://huggingface.co/docs/huggingface_hub/how-to-cache#limitations.\n",
      "To support symlinks on Windows, you either need to activate Developer Mode or to run Python as an administrator. In order to see activate developer mode, see this article: https://docs.microsoft.com/en-us/windows/apps/get-started/enable-your-device-for-development\n",
      "  warnings.warn(message)\n"
     ]
    },
    {
     "data": {
      "application/vnd.jupyter.widget-view+json": {
       "model_id": "7c64d7269a1a41ce91987670e4cd452e",
       "version_major": 2,
       "version_minor": 0
      },
      "text/plain": [
       "tokenizer_config.json:   0%|          | 0.00/727 [00:00<?, ?B/s]"
      ]
     },
     "metadata": {},
     "output_type": "display_data"
    },
    {
     "data": {
      "application/vnd.jupyter.widget-view+json": {
       "model_id": "e9886ba480a041609dd7976adce94ef4",
       "version_major": 2,
       "version_minor": 0
      },
      "text/plain": [
       "tokenizer.model:   0%|          | 0.00/500k [00:00<?, ?B/s]"
      ]
     },
     "metadata": {},
     "output_type": "display_data"
    },
    {
     "data": {
      "application/vnd.jupyter.widget-view+json": {
       "model_id": "29d1aac528164941a442bf2e29d4a3b4",
       "version_major": 2,
       "version_minor": 0
      },
      "text/plain": [
       "special_tokens_map.json:   0%|          | 0.00/435 [00:00<?, ?B/s]"
      ]
     },
     "metadata": {},
     "output_type": "display_data"
    },
    {
     "data": {
      "application/vnd.jupyter.widget-view+json": {
       "model_id": "bc24a04e3113422dadddd5d98ecad9b4",
       "version_major": 2,
       "version_minor": 0
      },
      "text/plain": [
       "tokenizer_config.json:   0%|          | 0.00/727 [00:00<?, ?B/s]"
      ]
     },
     "metadata": {},
     "output_type": "display_data"
    },
    {
     "name": "stderr",
     "output_type": "stream",
     "text": [
      "You are using the default legacy behaviour of the <class 'transformers.models.llama.tokenization_llama.LlamaTokenizer'>. This is expected, and simply means that the `legacy` (previous) behavior will be used so nothing changes for you. If you want to use the new behaviour, set `legacy=False`. This should only be set if you understand what it means, and thoroughly read the reason why this was added as explained in https://github.com/huggingface/transformers/pull/24565\n"
     ]
    },
    {
     "data": {
      "application/vnd.jupyter.widget-view+json": {
       "model_id": "f936acda7f1a493d9fb4b05e69abc834",
       "version_major": 2,
       "version_minor": 0
      },
      "text/plain": [
       "config.json:   0%|          | 0.00/593 [00:00<?, ?B/s]"
      ]
     },
     "metadata": {},
     "output_type": "display_data"
    },
    {
     "data": {
      "application/vnd.jupyter.widget-view+json": {
       "model_id": "3df5cec4d244421b9ada5c934384b49d",
       "version_major": 2,
       "version_minor": 0
      },
      "text/plain": [
       "config.json:   0%|          | 0.00/593 [00:00<?, ?B/s]"
      ]
     },
     "metadata": {},
     "output_type": "display_data"
    },
    {
     "data": {
      "application/vnd.jupyter.widget-view+json": {
       "model_id": "99af5360c9b243be83c87db789c76d4e",
       "version_major": 2,
       "version_minor": 0
      },
      "text/plain": [
       "pytorch_model.bin.index.json:   0%|          | 0.00/26.8k [00:00<?, ?B/s]"
      ]
     },
     "metadata": {},
     "output_type": "display_data"
    },
    {
     "data": {
      "application/vnd.jupyter.widget-view+json": {
       "model_id": "860bf2d7a50247558f486519753c8993",
       "version_major": 2,
       "version_minor": 0
      },
      "text/plain": [
       "Downloading shards:   0%|          | 0/3 [00:00<?, ?it/s]"
      ]
     },
     "metadata": {},
     "output_type": "display_data"
    },
    {
     "data": {
      "application/vnd.jupyter.widget-view+json": {
       "model_id": "8e7875174a45458cb6e0d1fe73e96664",
       "version_major": 2,
       "version_minor": 0
      },
      "text/plain": [
       "pytorch_model-00001-of-00003.bin:   0%|          | 0.00/9.88G [00:00<?, ?B/s]"
      ]
     },
     "metadata": {},
     "output_type": "display_data"
    },
    {
     "name": "stderr",
     "output_type": "stream",
     "text": [
      "Error while downloading from https://cdn-lfs.huggingface.co/repos/fc/b7/fcb7576436228734d8720e71229d45b49abf660e7dfa51f68c4e6ece4ab67a32/7d2df77f008d038c7bf5d20c7abaefbd9f1e8f79c7e9d6805c0a34c75fc67029?response-content-disposition=attachment%3B+filename*%3DUTF-8%27%27pytorch_model-00001-of-00003.bin%3B+filename%3D%22pytorch_model-00001-of-00003.bin%22%3B&response-content-type=application%2Foctet-stream&Expires=1715378511&Policy=eyJTdGF0ZW1lbnQiOlt7IkNvbmRpdGlvbiI6eyJEYXRlTGVzc1RoYW4iOnsiQVdTOkVwb2NoVGltZSI6MTcxNTM3ODUxMX19LCJSZXNvdXJjZSI6Imh0dHBzOi8vY2RuLWxmcy5odWdnaW5nZmFjZS5jby9yZXBvcy9mYy9iNy9mY2I3NTc2NDM2MjI4NzM0ZDg3MjBlNzEyMjlkNDViNDlhYmY2NjBlN2RmYTUxZjY4YzRlNmVjZTRhYjY3YTMyLzdkMmRmNzdmMDA4ZDAzOGM3YmY1ZDIwYzdhYmFlZmJkOWYxZThmNzljN2U5ZDY4MDVjMGEzNGM3NWZjNjcwMjk%7EcmVzcG9uc2UtY29udGVudC1kaXNwb3NpdGlvbj0qJnJlc3BvbnNlLWNvbnRlbnQtdHlwZT0qIn1dfQ__&Signature=EoplNfnJ0BBk9uNjOI25Fa-bU3f8H89gO6COe-K9ug-6GXGETG3MI5IEpTE0f60sIG%7EYLlWt3SrVaBhKAffmODvZ%7EfPn-EOWznYtka0OSANaZYTf%7EOlUouBTcUpdxpzGvhBrHoPBeJ1VNhOxUpfJdXFIqkx2uYP3UVPwJM3ckDSDqwlCE3et0257eqCnH--RmcURNNplm9K-zGJ4gTt-OMRUMDo-CFBJwq8d%7ElrwetZ6pE5rV3VEyjf4q%7EJoEzLyUU3ojS0iAhW04SXzhwiBRmHDOYL0mD12UqoXqG1l78DucTXC6NrtSgtUQPnNHCca7Y8YuQEeEYU5BCD7vvceVQ__&Key-Pair-Id=KVTP0A1DKRTAX: HTTPSConnectionPool(host='cdn-lfs.huggingface.co', port=443): Read timed out.\n",
      "Trying to resume download...\n"
     ]
    },
    {
     "data": {
      "application/vnd.jupyter.widget-view+json": {
       "model_id": "d2af1a77f6a343f3b59a0d0cdf8e885f",
       "version_major": 2,
       "version_minor": 0
      },
      "text/plain": [
       "pytorch_model-00001-of-00003.bin:  12%|#1        | 1.14G/9.88G [00:00<?, ?B/s]"
      ]
     },
     "metadata": {},
     "output_type": "display_data"
    },
    {
     "name": "stderr",
     "output_type": "stream",
     "text": [
      "Error while downloading from https://cdn-lfs.huggingface.co/repos/fc/b7/fcb7576436228734d8720e71229d45b49abf660e7dfa51f68c4e6ece4ab67a32/7d2df77f008d038c7bf5d20c7abaefbd9f1e8f79c7e9d6805c0a34c75fc67029?response-content-disposition=attachment%3B+filename*%3DUTF-8%27%27pytorch_model-00001-of-00003.bin%3B+filename%3D%22pytorch_model-00001-of-00003.bin%22%3B&response-content-type=application%2Foctet-stream&Expires=1715378511&Policy=eyJTdGF0ZW1lbnQiOlt7IkNvbmRpdGlvbiI6eyJEYXRlTGVzc1RoYW4iOnsiQVdTOkVwb2NoVGltZSI6MTcxNTM3ODUxMX19LCJSZXNvdXJjZSI6Imh0dHBzOi8vY2RuLWxmcy5odWdnaW5nZmFjZS5jby9yZXBvcy9mYy9iNy9mY2I3NTc2NDM2MjI4NzM0ZDg3MjBlNzEyMjlkNDViNDlhYmY2NjBlN2RmYTUxZjY4YzRlNmVjZTRhYjY3YTMyLzdkMmRmNzdmMDA4ZDAzOGM3YmY1ZDIwYzdhYmFlZmJkOWYxZThmNzljN2U5ZDY4MDVjMGEzNGM3NWZjNjcwMjk%7EcmVzcG9uc2UtY29udGVudC1kaXNwb3NpdGlvbj0qJnJlc3BvbnNlLWNvbnRlbnQtdHlwZT0qIn1dfQ__&Signature=EoplNfnJ0BBk9uNjOI25Fa-bU3f8H89gO6COe-K9ug-6GXGETG3MI5IEpTE0f60sIG%7EYLlWt3SrVaBhKAffmODvZ%7EfPn-EOWznYtka0OSANaZYTf%7EOlUouBTcUpdxpzGvhBrHoPBeJ1VNhOxUpfJdXFIqkx2uYP3UVPwJM3ckDSDqwlCE3et0257eqCnH--RmcURNNplm9K-zGJ4gTt-OMRUMDo-CFBJwq8d%7ElrwetZ6pE5rV3VEyjf4q%7EJoEzLyUU3ojS0iAhW04SXzhwiBRmHDOYL0mD12UqoXqG1l78DucTXC6NrtSgtUQPnNHCca7Y8YuQEeEYU5BCD7vvceVQ__&Key-Pair-Id=KVTP0A1DKRTAX: HTTPSConnectionPool(host='cdn-lfs.huggingface.co', port=443): Read timed out.\n",
      "Trying to resume download...\n"
     ]
    },
    {
     "data": {
      "application/vnd.jupyter.widget-view+json": {
       "model_id": "b02c6a4002eb4fdd9abaa8f1fb760897",
       "version_major": 2,
       "version_minor": 0
      },
      "text/plain": [
       "pytorch_model-00001-of-00003.bin:  51%|#####1    | 5.06G/9.88G [00:00<?, ?B/s]"
      ]
     },
     "metadata": {},
     "output_type": "display_data"
    },
    {
     "name": "stderr",
     "output_type": "stream",
     "text": [
      "Error while downloading from https://cdn-lfs.huggingface.co/repos/fc/b7/fcb7576436228734d8720e71229d45b49abf660e7dfa51f68c4e6ece4ab67a32/7d2df77f008d038c7bf5d20c7abaefbd9f1e8f79c7e9d6805c0a34c75fc67029?response-content-disposition=attachment%3B+filename*%3DUTF-8%27%27pytorch_model-00001-of-00003.bin%3B+filename%3D%22pytorch_model-00001-of-00003.bin%22%3B&response-content-type=application%2Foctet-stream&Expires=1715378511&Policy=eyJTdGF0ZW1lbnQiOlt7IkNvbmRpdGlvbiI6eyJEYXRlTGVzc1RoYW4iOnsiQVdTOkVwb2NoVGltZSI6MTcxNTM3ODUxMX19LCJSZXNvdXJjZSI6Imh0dHBzOi8vY2RuLWxmcy5odWdnaW5nZmFjZS5jby9yZXBvcy9mYy9iNy9mY2I3NTc2NDM2MjI4NzM0ZDg3MjBlNzEyMjlkNDViNDlhYmY2NjBlN2RmYTUxZjY4YzRlNmVjZTRhYjY3YTMyLzdkMmRmNzdmMDA4ZDAzOGM3YmY1ZDIwYzdhYmFlZmJkOWYxZThmNzljN2U5ZDY4MDVjMGEzNGM3NWZjNjcwMjk%7EcmVzcG9uc2UtY29udGVudC1kaXNwb3NpdGlvbj0qJnJlc3BvbnNlLWNvbnRlbnQtdHlwZT0qIn1dfQ__&Signature=EoplNfnJ0BBk9uNjOI25Fa-bU3f8H89gO6COe-K9ug-6GXGETG3MI5IEpTE0f60sIG%7EYLlWt3SrVaBhKAffmODvZ%7EfPn-EOWznYtka0OSANaZYTf%7EOlUouBTcUpdxpzGvhBrHoPBeJ1VNhOxUpfJdXFIqkx2uYP3UVPwJM3ckDSDqwlCE3et0257eqCnH--RmcURNNplm9K-zGJ4gTt-OMRUMDo-CFBJwq8d%7ElrwetZ6pE5rV3VEyjf4q%7EJoEzLyUU3ojS0iAhW04SXzhwiBRmHDOYL0mD12UqoXqG1l78DucTXC6NrtSgtUQPnNHCca7Y8YuQEeEYU5BCD7vvceVQ__&Key-Pair-Id=KVTP0A1DKRTAX: HTTPSConnectionPool(host='cdn-lfs.huggingface.co', port=443): Read timed out.\n",
      "Trying to resume download...\n"
     ]
    },
    {
     "data": {
      "application/vnd.jupyter.widget-view+json": {
       "model_id": "278117d785bc47d6a938175ce129bf31",
       "version_major": 2,
       "version_minor": 0
      },
      "text/plain": [
       "pytorch_model-00001-of-00003.bin:  56%|#####6    | 5.54G/9.88G [00:00<?, ?B/s]"
      ]
     },
     "metadata": {},
     "output_type": "display_data"
    },
    {
     "name": "stderr",
     "output_type": "stream",
     "text": [
      "Error while downloading from https://cdn-lfs.huggingface.co/repos/fc/b7/fcb7576436228734d8720e71229d45b49abf660e7dfa51f68c4e6ece4ab67a32/7d2df77f008d038c7bf5d20c7abaefbd9f1e8f79c7e9d6805c0a34c75fc67029?response-content-disposition=attachment%3B+filename*%3DUTF-8%27%27pytorch_model-00001-of-00003.bin%3B+filename%3D%22pytorch_model-00001-of-00003.bin%22%3B&response-content-type=application%2Foctet-stream&Expires=1715378511&Policy=eyJTdGF0ZW1lbnQiOlt7IkNvbmRpdGlvbiI6eyJEYXRlTGVzc1RoYW4iOnsiQVdTOkVwb2NoVGltZSI6MTcxNTM3ODUxMX19LCJSZXNvdXJjZSI6Imh0dHBzOi8vY2RuLWxmcy5odWdnaW5nZmFjZS5jby9yZXBvcy9mYy9iNy9mY2I3NTc2NDM2MjI4NzM0ZDg3MjBlNzEyMjlkNDViNDlhYmY2NjBlN2RmYTUxZjY4YzRlNmVjZTRhYjY3YTMyLzdkMmRmNzdmMDA4ZDAzOGM3YmY1ZDIwYzdhYmFlZmJkOWYxZThmNzljN2U5ZDY4MDVjMGEzNGM3NWZjNjcwMjk%7EcmVzcG9uc2UtY29udGVudC1kaXNwb3NpdGlvbj0qJnJlc3BvbnNlLWNvbnRlbnQtdHlwZT0qIn1dfQ__&Signature=EoplNfnJ0BBk9uNjOI25Fa-bU3f8H89gO6COe-K9ug-6GXGETG3MI5IEpTE0f60sIG%7EYLlWt3SrVaBhKAffmODvZ%7EfPn-EOWznYtka0OSANaZYTf%7EOlUouBTcUpdxpzGvhBrHoPBeJ1VNhOxUpfJdXFIqkx2uYP3UVPwJM3ckDSDqwlCE3et0257eqCnH--RmcURNNplm9K-zGJ4gTt-OMRUMDo-CFBJwq8d%7ElrwetZ6pE5rV3VEyjf4q%7EJoEzLyUU3ojS0iAhW04SXzhwiBRmHDOYL0mD12UqoXqG1l78DucTXC6NrtSgtUQPnNHCca7Y8YuQEeEYU5BCD7vvceVQ__&Key-Pair-Id=KVTP0A1DKRTAX: HTTPSConnectionPool(host='cdn-lfs.huggingface.co', port=443): Read timed out.\n",
      "Trying to resume download...\n"
     ]
    },
    {
     "data": {
      "application/vnd.jupyter.widget-view+json": {
       "model_id": "d3fd990c967f409a932e7cbfd8c9ca97",
       "version_major": 2,
       "version_minor": 0
      },
      "text/plain": [
       "pytorch_model-00001-of-00003.bin:  77%|#######7  | 7.62G/9.88G [00:00<?, ?B/s]"
      ]
     },
     "metadata": {},
     "output_type": "display_data"
    },
    {
     "data": {
      "application/vnd.jupyter.widget-view+json": {
       "model_id": "db93dcd4fca047679149d436c8d8154a",
       "version_major": 2,
       "version_minor": 0
      },
      "text/plain": [
       "pytorch_model-00002-of-00003.bin:   0%|          | 0.00/9.89G [00:00<?, ?B/s]"
      ]
     },
     "metadata": {},
     "output_type": "display_data"
    },
    {
     "name": "stderr",
     "output_type": "stream",
     "text": [
      "Error while downloading from https://cdn-lfs.huggingface.co/repos/fc/b7/fcb7576436228734d8720e71229d45b49abf660e7dfa51f68c4e6ece4ab67a32/42e888f99a0b6aa62219fcf21e268e68a365f103b43d3b78159f50cda48837e7?response-content-disposition=attachment%3B+filename*%3DUTF-8%27%27pytorch_model-00002-of-00003.bin%3B+filename%3D%22pytorch_model-00002-of-00003.bin%22%3B&response-content-type=application%2Foctet-stream&Expires=1715379501&Policy=eyJTdGF0ZW1lbnQiOlt7IkNvbmRpdGlvbiI6eyJEYXRlTGVzc1RoYW4iOnsiQVdTOkVwb2NoVGltZSI6MTcxNTM3OTUwMX19LCJSZXNvdXJjZSI6Imh0dHBzOi8vY2RuLWxmcy5odWdnaW5nZmFjZS5jby9yZXBvcy9mYy9iNy9mY2I3NTc2NDM2MjI4NzM0ZDg3MjBlNzEyMjlkNDViNDlhYmY2NjBlN2RmYTUxZjY4YzRlNmVjZTRhYjY3YTMyLzQyZTg4OGY5OWEwYjZhYTYyMjE5ZmNmMjFlMjY4ZTY4YTM2NWYxMDNiNDNkM2I3ODE1OWY1MGNkYTQ4ODM3ZTc%7EcmVzcG9uc2UtY29udGVudC1kaXNwb3NpdGlvbj0qJnJlc3BvbnNlLWNvbnRlbnQtdHlwZT0qIn1dfQ__&Signature=DhDSxP62jY-d7MkXn7OF2OM4Wf7-TBwbhHGfYJp%7EmTG0sV3DilAaua6X9wGJByzgqIbj9WPwyAwZQtERJ3K-c41pKtk6R4n2C7EOGeoHKi%7EYoLgoSVV6EFn0JvttSS1ObCt-nIdx%7EAAuQbqp4UqtGD9M3Uu4PsqtODsepvCJHDkFSJGC-zKVQ874VL55jhySmh1CgXMy7BbhTcTI6ll6TFfSyRWWBZ-jpgyeeuqQDfRAO4tqneD0C7CLWdicBWw7ps%7E-uujv2BZAZMn%7EOyDi%7E0ox4Am1K4Idaeb-b9e3dJGqZJcbKv7OihAPFgvDnoAXmcE-5Dn6D8sX9WoirNZOGA__&Key-Pair-Id=KVTP0A1DKRTAX: HTTPSConnectionPool(host='cdn-lfs.huggingface.co', port=443): Read timed out.\n",
      "Trying to resume download...\n"
     ]
    },
    {
     "data": {
      "application/vnd.jupyter.widget-view+json": {
       "model_id": "0bbb7ffdfdc447cea5dc49f62d856dfa",
       "version_major": 2,
       "version_minor": 0
      },
      "text/plain": [
       "pytorch_model-00002-of-00003.bin:  54%|#####4    | 5.37G/9.89G [00:00<?, ?B/s]"
      ]
     },
     "metadata": {},
     "output_type": "display_data"
    },
    {
     "data": {
      "application/vnd.jupyter.widget-view+json": {
       "model_id": "7f9f4e5af0114c419963b5bd7bdab0a0",
       "version_major": 2,
       "version_minor": 0
      },
      "text/plain": [
       "pytorch_model-00003-of-00003.bin:   0%|          | 0.00/7.18G [00:00<?, ?B/s]"
      ]
     },
     "metadata": {},
     "output_type": "display_data"
    },
    {
     "name": "stderr",
     "output_type": "stream",
     "text": [
      "Error while downloading from https://cdn-lfs.huggingface.co/repos/fc/b7/fcb7576436228734d8720e71229d45b49abf660e7dfa51f68c4e6ece4ab67a32/ecf89fe41fc62306398c57c58407a7e60b4eb6bfcda1cff518565fb6b25ed896?response-content-disposition=attachment%3B+filename*%3DUTF-8%27%27pytorch_model-00003-of-00003.bin%3B+filename%3D%22pytorch_model-00003-of-00003.bin%22%3B&response-content-type=application%2Foctet-stream&Expires=1715380421&Policy=eyJTdGF0ZW1lbnQiOlt7IkNvbmRpdGlvbiI6eyJEYXRlTGVzc1RoYW4iOnsiQVdTOkVwb2NoVGltZSI6MTcxNTM4MDQyMX19LCJSZXNvdXJjZSI6Imh0dHBzOi8vY2RuLWxmcy5odWdnaW5nZmFjZS5jby9yZXBvcy9mYy9iNy9mY2I3NTc2NDM2MjI4NzM0ZDg3MjBlNzEyMjlkNDViNDlhYmY2NjBlN2RmYTUxZjY4YzRlNmVjZTRhYjY3YTMyL2VjZjg5ZmU0MWZjNjIzMDYzOThjNTdjNTg0MDdhN2U2MGI0ZWI2YmZjZGExY2ZmNTE4NTY1ZmI2YjI1ZWQ4OTY%7EcmVzcG9uc2UtY29udGVudC1kaXNwb3NpdGlvbj0qJnJlc3BvbnNlLWNvbnRlbnQtdHlwZT0qIn1dfQ__&Signature=Co2mEiMGmJz3wXYtE0L7lsiLv8kYvUkunyh444HM8lho7vqD5meQ7rvXYDODzzoHKxFEOUEO41uOUNs05tFAcDObVUr8YRSiyXU8cSE7ZtA2BnGdBcb1odUsziYe2936RDIJHlVcoyGSSEercaV6XxqJxRkAFxyXm7pR1MaM2ncT2XR6krOG%7EEmlWFHm6DCVWx1rW6Fowa1RazfLoSzLrC9Pw8YKrMxrSeDmJkpcOW8soNRh415Js4cxiOm70bhPPTsNebxTWe9H7cT5kSJyA8ktEIZZ2sU%7E-SvExLhsnSZS2djVCSXVl-WLTd-LK3nUsBO4pzI0rJv-ex0F%7E1STlw__&Key-Pair-Id=KVTP0A1DKRTAX: HTTPSConnectionPool(host='cdn-lfs.huggingface.co', port=443): Read timed out.\n",
      "Trying to resume download...\n"
     ]
    },
    {
     "data": {
      "application/vnd.jupyter.widget-view+json": {
       "model_id": "d905b880248f434c9efdacca8eb11fc5",
       "version_major": 2,
       "version_minor": 0
      },
      "text/plain": [
       "pytorch_model-00003-of-00003.bin:  27%|##6       | 1.91G/7.18G [00:00<?, ?B/s]"
      ]
     },
     "metadata": {},
     "output_type": "display_data"
    },
    {
     "ename": "",
     "evalue": "",
     "output_type": "error",
     "traceback": [
      "\u001b[1;31mThe Kernel crashed while executing code in the current cell or a previous cell. \n",
      "\u001b[1;31mPlease review the code in the cell(s) to identify a possible cause of the failure. \n",
      "\u001b[1;31mClick <a href='https://aka.ms/vscodeJupyterKernelCrash'>here</a> for more info. \n",
      "\u001b[1;31mView Jupyter <a href='command:jupyter.viewOutput'>log</a> for further details."
     ]
    }
   ],
   "source": [
    "from transformers import AutoTokenizer, AutoModelForCausalLM\n",
    "\n",
    "tokenizer = AutoTokenizer.from_pretrained(\"ajibawa-2023/carl-7b\", force_download=True, resume_download=False)\n",
    "model = AutoModelForCausalLM.from_pretrained(\"ajibawa-2023/carl-7b\", force_download=True, resume_download=False)\n"
   ]
  }
 ],
 "metadata": {
  "kernelspec": {
   "display_name": "Python 3",
   "language": "python",
   "name": "python3"
  },
  "language_info": {
   "codemirror_mode": {
    "name": "ipython",
    "version": 3
   },
   "file_extension": ".py",
   "mimetype": "text/x-python",
   "name": "python",
   "nbconvert_exporter": "python",
   "pygments_lexer": "ipython3",
   "version": "3.11.6"
  }
 },
 "nbformat": 4,
 "nbformat_minor": 2
}
