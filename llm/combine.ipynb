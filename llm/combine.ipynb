{
 "cells": [
  {
   "cell_type": "code",
   "execution_count": 2,
   "metadata": {},
   "outputs": [
    {
     "name": "stderr",
     "output_type": "stream",
     "text": [
      "<>:4: SyntaxWarning: invalid escape sequence '\\C'\n",
      "<>:5: SyntaxWarning: invalid escape sequence '\\C'\n",
      "<>:6: SyntaxWarning: invalid escape sequence '\\C'\n",
      "<>:4: SyntaxWarning: invalid escape sequence '\\C'\n",
      "<>:5: SyntaxWarning: invalid escape sequence '\\C'\n",
      "<>:6: SyntaxWarning: invalid escape sequence '\\C'\n",
      "C:\\Users\\SUBHODEEP\\AppData\\Local\\Temp\\ipykernel_1240\\3321017908.py:4: SyntaxWarning: invalid escape sequence '\\C'\n",
      "  model_part1_path = \"E:\\College (VIT)\\\\3RD YEAR\\EPICS\\EPICS\\llm\\\\carl-7b\\pytorch_model-00001-of-00003.bin\"\n",
      "C:\\Users\\SUBHODEEP\\AppData\\Local\\Temp\\ipykernel_1240\\3321017908.py:5: SyntaxWarning: invalid escape sequence '\\C'\n",
      "  model_part2_path = \"E:\\College (VIT)\\\\3RD YEAR\\EPICS\\EPICS\\llm\\\\carl-7b\\pytorch_model-00002-of-00003.bin\"\n",
      "C:\\Users\\SUBHODEEP\\AppData\\Local\\Temp\\ipykernel_1240\\3321017908.py:6: SyntaxWarning: invalid escape sequence '\\C'\n",
      "  model_part3_path = \"E:\\College (VIT)\\\\3RD YEAR\\EPICS\\EPICS\\llm\\\\carl-7b\\pytorch_model-00003-of-00003.bin\"\n"
     ]
    },
    {
     "ename": "",
     "evalue": "",
     "output_type": "error",
     "traceback": [
      "\u001b[1;31mThe Kernel crashed while executing code in the current cell or a previous cell. \n",
      "\u001b[1;31mPlease review the code in the cell(s) to identify a possible cause of the failure. \n",
      "\u001b[1;31mClick <a href='https://aka.ms/vscodeJupyterKernelCrash'>here</a> for more info. \n",
      "\u001b[1;31mView Jupyter <a href='command:jupyter.viewOutput'>log</a> for further details."
     ]
    }
   ],
   "source": [
    "import torch\n",
    "\n",
    "# Paths to your split model files\n",
    "model_part1_path = \"E:\\College (VIT)\\\\3RD YEAR\\EPICS\\EPICS\\llm\\\\carl-7b\\pytorch_model-00001-of-00003.bin\"\n",
    "model_part2_path = \"E:\\College (VIT)\\\\3RD YEAR\\EPICS\\EPICS\\llm\\\\carl-7b\\pytorch_model-00002-of-00003.bin\"\n",
    "model_part3_path = \"E:\\College (VIT)\\\\3RD YEAR\\EPICS\\EPICS\\llm\\\\carl-7b\\pytorch_model-00003-of-00003.bin\"\n",
    "\n",
    "# Load each part\n",
    "model_part1 = torch.load(model_part1_path)\n",
    "model_part2 = torch.load(model_part2_path)\n",
    "model_part3 = torch.load(model_part3_path)\n",
    "\n",
    "# Concatenate the parts\n",
    "combined_model = torch.cat([model_part1, model_part2, model_part3], dim=0)\n",
    "\n",
    "# Save the combined model to a new file\n",
    "combined_model_path = \"combined_model.bin\"\n",
    "torch.save(combined_model, combined_model_path)"
   ]
  }
 ],
 "metadata": {
  "kernelspec": {
   "display_name": "Python 3",
   "language": "python",
   "name": "python3"
  },
  "language_info": {
   "codemirror_mode": {
    "name": "ipython",
    "version": 3
   },
   "file_extension": ".py",
   "mimetype": "text/x-python",
   "name": "python",
   "nbconvert_exporter": "python",
   "pygments_lexer": "ipython3",
   "version": "3.12.3"
  }
 },
 "nbformat": 4,
 "nbformat_minor": 2
}
